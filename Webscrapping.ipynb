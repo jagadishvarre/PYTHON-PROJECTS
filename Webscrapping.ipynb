{
 "cells": [
  {
   "cell_type": "code",
   "execution_count": 2,
   "metadata": {},
   "outputs": [],
   "source": [
    "from bs4 import BeautifulSoup\n",
    "import requests\n",
    "import smtplib\n",
    "import time\n",
    "import datetime\n"
   ]
  },
  {
   "cell_type": "code",
   "execution_count": 66,
   "metadata": {},
   "outputs": [
    {
     "name": "stdout",
     "output_type": "stream",
     "text": [
      "\n",
      "          Regular Jeans\n",
      "         \n",
      "\n",
      "            21,99 €\n",
      "           \n"
     ]
    }
   ],
   "source": [
    "# first create a connection , get headers info from http://httpbin.org/get\n",
    "\n",
    "url = \"https://www2.hm.com/de_de/productpage.0811993022.html\"\n",
    "headers = {\"User-Agent\": \"Mozilla/5.0 (Windows NT 10.0; Win64; x64) AppleWebKit/537.36 (KHTML, like Gecko) Chrome/100.0.4896.127 Safari/537.36\", \"Accept-Encoding\":\"gzip, deflate\",\n",
    "        \"Accept\":\"text/html,application/xhtml+xml,application/xml;q=0.9,*/*;q=0.8\",\n",
    "               \"DNT\":\"1\",\"Connection\":\"close\", \"Upgrade-Insecure-Requests\":\"1\"}\n",
    "\n",
    "page = requests.get(url,headers=headers)\n",
    "\n",
    "\n",
    "#create an object for beautiful soup\n",
    "\n",
    "s1 = BeautifulSoup(page.content,'html.parser')\n",
    "\n",
    "#print(s1)\n",
    "\n",
    "\n",
    "s2 = BeautifulSoup(s1.prettify())\n",
    "#print(s2)\n",
    "\n",
    "# to get info using class , use class_\n",
    "\n",
    "title = s2.find(class_='primary product-item-headline').get_text()\n",
    "\n",
    "print(title) \n",
    "\n",
    "parent_sec = s2.find('section', {'class': 'name-price'})\n",
    "parent_div = parent_sec.find('div', {'class': 'primary-row product-item-price'})\n",
    "price =  parent_div.find('span',{'class':'price-value'}).get_text()\n",
    "\n",
    "\n",
    "#<div class=\"ProductPrice-module--productItemPrice__2i2Hc\"><span class=\"Price-module--original-normal__1C31U ProductPrice-module--priceValueOriginal__3U3Cz\">29,99 €</span><span class=\"Price-module--black-normal__Bh4GY ProductPrice-module--priceDiscount__1tgGX\">21,99 €</span><div class=\"Price-module--black-normal__Bh4GY ProductPrice-module--percentageDiscount__kz3RC percentage-discount\">-27%</div></div>\n",
    "\n",
    "#<span class=\"Price-module--black-normal__Bh4GY ProductPrice-module--priceDiscount__1tgGX\">21,99 €</span>\n",
    "\n",
    "\n",
    "\n",
    "print(price)\n",
    "\n",
    "\n",
    "# NOTE:  as i was looking in the website html, could not figure out for 1 hour that the tags class name is different when we extract \n",
    "# it section by section \n",
    "\n",
    "# size was not able to be scrapped, as it still shows to choose size rather than the selected size , as it is not static and\n",
    "# gets back to original for every reload , preferabbly we could opt the shopping cart , where the size will always be same \n",
    "\n",
    "\n",
    "\n",
    "\n"
   ]
  },
  {
   "cell_type": "code",
   "execution_count": 50,
   "metadata": {},
   "outputs": [
    {
     "name": "stdout",
     "output_type": "stream",
     "text": [
      "21,99\n",
      "Regular Jeans\n"
     ]
    }
   ],
   "source": [
    "title = title.strip()\n",
    "\n",
    "price=price.strip()[:-2]\n",
    "print(price)\n",
    "print(title)"
   ]
  },
  {
   "cell_type": "code",
   "execution_count": 56,
   "metadata": {},
   "outputs": [
    {
     "name": "stdout",
     "output_type": "stream",
     "text": [
      "2022-04-19\n"
     ]
    }
   ],
   "source": [
    "import datetime\n",
    "\n",
    "today= datetime.date.today()\n",
    "print(today)"
   ]
  },
  {
   "cell_type": "code",
   "execution_count": 57,
   "metadata": {},
   "outputs": [],
   "source": [
    "# create a csv , insert header and data \n",
    "import csv \n",
    "\n",
    "header = ['Title','Price','Date']\n",
    "\n",
    "data=[title,price,today]\n",
    "\n",
    "\n",
    "    #with open('datascrapping.csv','w',newline='',encoding ='UTF8') as f:\n",
    "    \n",
    "    #writer=csv.writer(f)\n",
    "    #writer.writerow(header)\n",
    "   # writer.writerow(data)\n",
    "    \n",
    "\n",
    "\n",
    "\n",
    "\n",
    "\n",
    "\n"
   ]
  },
  {
   "cell_type": "code",
   "execution_count": 69,
   "metadata": {},
   "outputs": [
    {
     "name": "stdout",
     "output_type": "stream",
     "text": [
      "           Title  Price        Date\n",
      "0  Regular Jeans  21,99  2022-04-19\n"
     ]
    }
   ],
   "source": [
    "import pandas as pd\n",
    "\n",
    "df = pd.read_csv(r'C:\\Users\\varre\\OneDrive\\Desktop\\D.A\\Portfolio\\project5Web.scrapping\\datascrapping.csv')\n",
    "print(df)"
   ]
  },
  {
   "cell_type": "code",
   "execution_count": 70,
   "metadata": {},
   "outputs": [],
   "source": [
    "with open('datascrapping.csv','a+',newline='',encoding ='UTF8') as f:\n",
    "    \n",
    "    writer=csv.writer(f)\n",
    "    \n",
    "    writer.writerow(data)"
   ]
  },
  {
   "cell_type": "code",
   "execution_count": 71,
   "metadata": {},
   "outputs": [],
   "source": [
    "# we do not want to run every step above everytime , so create a function\n",
    "\n",
    "def price_cheker():\n",
    "    url = \"https://www2.hm.com/de_de/productpage.0811993022.html\"\n",
    "    headers = {\"User-Agent\": \"Mozilla/5.0 (Windows NT 10.0; Win64; x64) AppleWebKit/537.36 (KHTML, like Gecko) Chrome/100.0.4896.127 Safari/537.36\", \"Accept-Encoding\":\"gzip, deflate\",\n",
    "        \"Accept\":\"text/html,application/xhtml+xml,application/xml;q=0.9,*/*;q=0.8\",\n",
    "               \"DNT\":\"1\",\"Connection\":\"close\", \"Upgrade-Insecure-Requests\":\"1\"}\n",
    "\n",
    "    page = requests.get(url,headers=headers)\n",
    "\n",
    "\n",
    "    #create an object for beautiful soup\n",
    "\n",
    "    s1 = BeautifulSoup(page.content,'html.parser')\n",
    "\n",
    "    #print(s1)\n",
    "\n",
    "\n",
    "    s2 = BeautifulSoup(s1.prettify())\n",
    "    #print(s2)\n",
    "\n",
    "    # to get info using class , use class_\n",
    "\n",
    "    title = s2.find(class_='primary product-item-headline').get_text()\n",
    "\n",
    "    \n",
    "\n",
    "    parent_sec = s2.find('section', {'class': 'name-price'})\n",
    "    parent_div = parent_sec.find('div', {'class': 'primary-row product-item-price'})\n",
    "    price =  parent_div.find('span',{'class':'price-value'}).get_text()\n",
    "\n",
    "\n",
    "#<div class=\"ProductPrice-module--productItemPrice__2i2Hc\"><span class=\"Price-module--original-normal__1C31U ProductPrice-module--priceValueOriginal__3U3Cz\">29,99 €</span><span class=\"Price-module--black-normal__Bh4GY ProductPrice-module--priceDiscount__1tgGX\">21,99 €</span><div class=\"Price-module--black-normal__Bh4GY ProductPrice-module--percentageDiscount__kz3RC percentage-discount\">-27%</div></div>\n",
    "\n",
    "#<span class=\"Price-module--black-normal__Bh4GY ProductPrice-module--priceDiscount__1tgGX\">21,99 €</span>\n",
    "\n",
    "    title = title.strip()\n",
    "\n",
    "    price=price.strip()[:-2]\n",
    "    \n",
    "    \n",
    "    import datetime\n",
    "\n",
    "    today= datetime.date.today()\n",
    "    \n",
    "    import csv \n",
    "\n",
    "    header = ['Title','Price','Date']\n",
    "\n",
    "    data=[title,price,today]\n",
    "    \n",
    "    with open('datascrapping.csv','a+',newline='',encoding ='UTF8') as f:\n",
    "    \n",
    "        writer=csv.writer(f)\n",
    "    \n",
    "        writer.writerow(data)\n",
    "    \n",
    "    if (price < 15):\n",
    "        \n",
    "        notify()\n",
    "\n",
    "\n",
    "\n"
   ]
  },
  {
   "cell_type": "code",
   "execution_count": null,
   "metadata": {},
   "outputs": [],
   "source": [
    "# the purpose of this project is to scrap data and make notified if the price of product reduces\n",
    "\n",
    "while(True):\n",
    "    \n",
    "    price_cheker()\n",
    "    \n",
    "    time.sleep()   # this helps to check our program every timestamp we give \n",
    "    \n",
    "    \n",
    "    \n",
    "    \n",
    "\n",
    "\n",
    "\n",
    "\n"
   ]
  },
  {
   "cell_type": "code",
   "execution_count": 75,
   "metadata": {},
   "outputs": [],
   "source": [
    "def notify():\n",
    "    \n",
    "    server = smtplib.SMTP_SSL('smtp.gmail.com',465)\n",
    "    server.ehlo()\n",
    "    \n",
    "    server.login('jagadishvarre@gmail.com','**************')\n",
    "    subject = 'Notification H&M '\n",
    "    body='Prrice has been reduced and it lies below 15 euros'\n",
    "    \n",
    "    msg = f\"subject= {subject}\\n\\n{body}\"\n",
    "    \n",
    "    server.sendmail(\n",
    "        'jagadishvarre@gmail.com',msg\n",
    "    )\n",
    "    "
   ]
  },
  {
   "cell_type": "code",
   "execution_count": null,
   "metadata": {},
   "outputs": [],
   "source": []
  }
 ],
 "metadata": {
  "kernelspec": {
   "display_name": "Python 3",
   "language": "python",
   "name": "python3"
  },
  "language_info": {
   "codemirror_mode": {
    "name": "ipython",
    "version": 3
   },
   "file_extension": ".py",
   "mimetype": "text/x-python",
   "name": "python",
   "nbconvert_exporter": "python",
   "pygments_lexer": "ipython3",
   "version": "3.8.5"
  }
 },
 "nbformat": 4,
 "nbformat_minor": 4
}
